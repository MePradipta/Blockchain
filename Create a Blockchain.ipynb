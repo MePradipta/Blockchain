{
  "nbformat": 4,
  "nbformat_minor": 0,
  "metadata": {
    "colab": {
      "provenance": [],
      "authorship_tag": "ABX9TyNLky4tXbbPCUap2XMpH51X",
      "include_colab_link": true
    },
    "kernelspec": {
      "name": "python3",
      "display_name": "Python 3"
    },
    "language_info": {
      "name": "python"
    }
  },
  "cells": [
    {
      "cell_type": "markdown",
      "metadata": {
        "id": "view-in-github",
        "colab_type": "text"
      },
      "source": [
        "<a href=\"https://colab.research.google.com/github/MePradipta/Blockchain/blob/main/Create%20a%20Blockchain.ipynb\" target=\"_parent\"><img src=\"https://colab.research.google.com/assets/colab-badge.svg\" alt=\"Open In Colab\"/></a>"
      ]
    },
    {
      "cell_type": "code",
      "execution_count": 1,
      "metadata": {
        "colab": {
          "base_uri": "https://localhost:8080/"
        },
        "id": "hRnVFmJv2CK9",
        "outputId": "c0e6aee3-3df6-4aef-86b3-f3bc214cdc5d"
      },
      "outputs": [
        {
          "output_type": "stream",
          "name": "stdout",
          "text": [
            "Hello Blockchain\n"
          ]
        }
      ],
      "source": [
        "print(\"Hello Blockchain\")"
      ]
    },
    {
      "cell_type": "code",
      "source": [
        "def lightning_hash(data):\n",
        "  return data + '*'\n",
        "\n",
        "\n",
        "class Block:\n",
        "    def __init__(self, data, hash, last_hash):\n",
        "         self.data = data\n",
        "         self.hash = hash\n",
        "         self.last_hash = last_hash\n",
        "\n",
        "foo_block = Block('foo_data','foo_hash','foo_last_hash')\n",
        "\n",
        "print(foo_block.data)\n",
        "print(foo_block.hash)\n",
        "print(foo_block.last_hash)\n",
        "\n",
        "class Blockchain:\n",
        "    def __init__(self):\n",
        "        genesis = Block('gen_data','gen_hash','gen_last_hash')\n",
        "\n",
        "        self.chain = [genesis]\n",
        "\n",
        "    def add_block(self,data):\n",
        "        last_hash= self.chain[-1].hash\n",
        "        hash = lightning_hash(data+last_hash)\n",
        "        block = Block(data, hash, last_hash)\n",
        "\n",
        "        self.chain.append(block)\n",
        "\n",
        "foo_blockchain = Blockchain()\n",
        "foo_blockchain.add_block('one')\n",
        "foo_blockchain.add_block('two')\n",
        "foo_blockchain.add_block('three')\n",
        "\n",
        "for block in foo_blockchain.chain:\n",
        "                print(block.__dict__)"
      ],
      "metadata": {
        "colab": {
          "base_uri": "https://localhost:8080/"
        },
        "id": "YH7CTW_B2SZn",
        "outputId": "39e11533-fda3-40f5-d9b2-cf937eadc1fc"
      },
      "execution_count": 16,
      "outputs": [
        {
          "output_type": "stream",
          "name": "stdout",
          "text": [
            "foo_data\n",
            "foo_hash\n",
            "foo_last_hash\n",
            "{'data': 'gen_data', 'hash': 'gen_hash', 'last_hash': 'gen_last_hash'}\n",
            "{'data': 'one', 'hash': 'onegen_hash*', 'last_hash': 'gen_hash'}\n",
            "{'data': 'two', 'hash': 'twoonegen_hash**', 'last_hash': 'onegen_hash*'}\n",
            "{'data': 'three', 'hash': 'threetwoonegen_hash***', 'last_hash': 'twoonegen_hash**'}\n"
          ]
        }
      ]
    },
    {
      "cell_type": "code",
      "source": [],
      "metadata": {
        "id": "-w3-SX6q9-H1"
      },
      "execution_count": null,
      "outputs": []
    }
  ]
}